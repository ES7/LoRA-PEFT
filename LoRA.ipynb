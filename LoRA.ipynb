{
 "cells": [
  {
   "cell_type": "code",
   "execution_count": 1,
   "id": "87745ff3-68e4-43ea-8666-0bc67999cafe",
   "metadata": {},
   "outputs": [],
   "source": [
    "import torch\n",
    "import torchvision.datasets as datasets \n",
    "import torchvision.transforms as transforms\n",
    "import torch.nn as nn\n",
    "import matplotlib.pyplot as plt\n",
    "from tqdm import tqdm"
   ]
  },
  {
   "cell_type": "markdown",
   "id": "ccff5e5a-6138-4785-8dbc-8c499de42f8f",
   "metadata": {},
   "source": [
    "* `torch:` The main PyTorch library used for deep learning.\n",
    "* `torchvision.datasets:` Contains pre-built datasets, including MNIST (a dataset of handwritten digits).\n",
    "* `torchvision.transforms:` Helps with data preprocessing, like converting images to tensors and normalizing them.\n",
    "* `torch.nn:` The module for building neural network architectures.\n",
    "* `matplotlib.pyplot:` Used for visualization (not used yet but might be used for plotting accuracy/loss).\n",
    "* `tqdm:` A progress bar library for tracking the training process."
   ]
  },
  {
   "cell_type": "code",
   "execution_count": 2,
   "id": "dba63617-ec65-4f18-92cf-b971b55e9965",
   "metadata": {},
   "outputs": [],
   "source": [
    "# Make torch deterministic\n",
    "_ = torch.manual_seed(0)"
   ]
  },
  {
   "cell_type": "markdown",
   "id": "f5b06fe4-1548-4928-8b76-39e62f62aaf8",
   "metadata": {},
   "source": [
    "This ensures reproducibility. Setting a fixed seed makes sure that the randomness in weight initialization, data shuffling, and other operations produces the same results every time the code runs."
   ]
  },
  {
   "cell_type": "markdown",
   "id": "1237266a-fa9f-4d80-b71d-fe9ef7246ded",
   "metadata": {},
   "source": [
    "### Defining Data Transformations\n",
    "\n",
    "We will be training a network to classify MNIST digits and then fine-tune the network on a particular digit on which it doesn't perform well."
   ]
  },
  {
   "cell_type": "code",
   "execution_count": 3,
   "id": "51ad1299-2c35-4cdf-8c8c-c67846a87097",
   "metadata": {},
   "outputs": [],
   "source": [
    "transform = transforms.Compose([\n",
    "    transforms.ToTensor(),\n",
    "    transforms.Normalize((0.1307,), (0.3081,))])"
   ]
  },
  {
   "cell_type": "markdown",
   "id": "698d9491-e898-49b5-8957-d045030eabfc",
   "metadata": {},
   "source": [
    "* `transforms.Compose([...]):` Combines multiple transformations into one.\n",
    "* `transforms.ToTensor():` Converts images to PyTorch tensors (numerical representations).\n",
    "* `transforms.Normalize((0.1307,), (0.3081,)):`\n",
    "  * Normalizes the dataset using the mean (0.1307) and standard deviation (0.3081) (precomputed for MNIST).\n",
    "  * Normalization improves convergence during training.\n",
    "<br>\n",
    "<br>\n",
    "### Loading the MNSIT Training Dataset"
   ]
  },
  {
   "cell_type": "code",
   "execution_count": 4,
   "id": "e8e8b42a-5a9f-4f43-850f-f56de05394ee",
   "metadata": {},
   "outputs": [],
   "source": [
    "mnist_trainset = datasets.MNIST(root='./data', train=True, download=True, transform=transform)"
   ]
  },
  {
   "cell_type": "markdown",
   "id": "7e59154e-f4e3-4d63-9aa4-cd6a11726f53",
   "metadata": {},
   "source": [
    "* `datasets.MNIST(...):`\n",
    "  * Loads the MNIST dataset from ./data (downloads if not available).\n",
    "  * `train=True:` Loads the training set (60,000 images).\n",
    "  * `download=True:` Downloads the dataset if it isn't found locally.\n",
    "  * `transform=transform:` Applies the previously defined transformations (tensor conversion & normalization).\n",
    "<br>\n",
    "<br>\n",
    "### Create a dataloader for the training"
   ]
  },
  {
   "cell_type": "code",
   "execution_count": 5,
   "id": "333059e8-17da-4073-a57f-8b12d5b4bd6e",
   "metadata": {},
   "outputs": [],
   "source": [
    "train_loader = torch.utils.data.DataLoader(mnist_trainset, batch_size=10, shuffle=True)"
   ]
  },
  {
   "cell_type": "markdown",
   "id": "ad518fa7-2200-4659-bd63-17b4419a2751",
   "metadata": {},
   "source": [
    "* **Dataloader:** Helps efficiently load batches of data for training.\n",
    "* `batch_size=10:` Each batch contains 10 images.\n",
    "* `shuffle=True:` Randomly shuffles the data at every epoch to prevent model overfitting to a particular order.\n",
    "<br>\n",
    "<br>\n",
    "### Load the MNIST Test Dataset"
   ]
  },
  {
   "cell_type": "code",
   "execution_count": 6,
   "id": "5d897261-5892-4c42-ba8f-ab2050033f48",
   "metadata": {},
   "outputs": [],
   "source": [
    "mnist_testset = datasets.MNIST(root='./data', train=False, download=True, transform=transform)"
   ]
  },
  {
   "cell_type": "markdown",
   "id": "8490fc65-b92a-4cac-b5a8-855a3c53bd55",
   "metadata": {},
   "source": [
    "* `mnist_testset`: Similar to the training set, but `train=False` ensures that the test set (10,000 images) is loaded instead.\n",
    "<br>\n",
    "<br>\n",
    "### Creating a Dataloader for Testing"
   ]
  },
  {
   "cell_type": "code",
   "execution_count": 7,
   "id": "a8596afb-08c1-46d8-a3e2-fd01da443c8b",
   "metadata": {},
   "outputs": [],
   "source": [
    "test_loader = torch.utils.data.DataLoader(mnist_testset, batch_size=10, shuffle=True)"
   ]
  },
  {
   "cell_type": "markdown",
   "id": "f62ab51b-24ed-4259-8b68-f6fcb969f4f4",
   "metadata": {},
   "source": [
    "* `test_loader`: This dataloader will be used to evaluate the model after training.\n",
    "* Again, **batch size = 10** (so we test the model in small groups).\n",
    "* Shuffling in test data is generally unnecessary but might be useful for visualization."
   ]
  },
  {
   "cell_type": "code",
   "execution_count": 8,
   "id": "843c5e79-3db0-448a-b6d5-e1bbceea4a63",
   "metadata": {},
   "outputs": [],
   "source": [
    "# Define the device\n",
    "device = torch.device(\"cuda:0\" if torch.cuda.is_available() else \"cpu\")"
   ]
  },
  {
   "cell_type": "markdown",
   "id": "813f155e-ff0a-4075-804a-5a66599c23e3",
   "metadata": {},
   "source": [
    "## Neural Network\n",
    "\n",
    "Create the Neural Network to classify the digits, making it overly complicated to better show the power of LoRA"
   ]
  },
  {
   "cell_type": "code",
   "execution_count": 9,
   "id": "8be30d7c-7967-400b-8b3d-a9baf0cdedc8",
   "metadata": {},
   "outputs": [],
   "source": [
    "class RichBoyNet(nn.Module):\n",
    "    def __init__(self, hidden_size_1=1000, hidden_size_2=2000):\n",
    "        super(RichBoyNet,self).__init__()\n",
    "        self.linear1 = nn.Linear(28*28, hidden_size_1) \n",
    "        self.linear2 = nn.Linear(hidden_size_1, hidden_size_2) \n",
    "        self.linear3 = nn.Linear(hidden_size_2, 10)\n",
    "        self.relu = nn.ReLU()\n",
    "\n",
    "    def forward(self, img):\n",
    "        x = img.view(-1, 28*28)\n",
    "        x = self.relu(self.linear1(x))\n",
    "        x = self.relu(self.linear2(x))\n",
    "        x = self.linear3(x)\n",
    "        return x\n",
    "\n",
    "net = RichBoyNet().to(device)"
   ]
  },
  {
   "cell_type": "markdown",
   "id": "a1edba6c-aebd-450d-ae7c-9750b269b1f9",
   "metadata": {},
   "source": [
    "* The class `RichBoyNet` inherits from nn.Module, meaning it is a PyTorch neural network.\n",
    "* The __init__ function initializes three fully connected layers (`nn.Linear`):\n",
    "  * `self.linear1:` Takes input pixels (28×28 = 784) and maps them to 1000 neurons.\n",
    "  * `self.linear2:` Maps 1000 neurons to 2000 neurons.\n",
    "  * `self.linear3:` Maps 2000 neurons to 10 output classes (digits 0-9).\n",
    "* **ReLU Activation Function** (`self.relu = nn.ReLU()`):\n",
    "  * It introduces non-linearity, allowing the network to learn complex patterns.\n",
    "\n",
    "#### Forward Pass\n",
    "1. Flatten the image: The MNIST dataset contains 28×28 grayscale images. We reshape each image from (1, 28, 28) → (1, 784) for the fully connected layers.\n",
    "2. Pass through the layers: The last layer `self.linear3` outputs raw logits (scores before applying softmax).\n",
    "3. No activation on the last layer: This is intentional because PyTorch’s `CrossEntropyLoss` automatically applies softmax.\n",
    "\n",
    "Moving the Model to GPU (if available)"
   ]
  },
  {
   "cell_type": "markdown",
   "id": "80521c31-17f7-4852-819c-94846a88f91f",
   "metadata": {},
   "source": [
    "## Training\n",
    "\n",
    "Train the network only for 1 epoch to simulate a complete general pre-training on the data"
   ]
  },
  {
   "cell_type": "code",
   "execution_count": 10,
   "id": "e04e90ae-ca41-42aa-a96f-7344a828f42c",
   "metadata": {},
   "outputs": [
    {
     "name": "stderr",
     "output_type": "stream",
     "text": [
      "Epoch 1: 100%|████████████████████████████████████████████████████████| 6000/6000 [00:18<00:00, 329.46it/s, loss=0.239]\n"
     ]
    }
   ],
   "source": [
    "def train(train_loader, net, epochs=5, total_iterations_limit=None):\n",
    "    # Loss Function & Optimzer\n",
    "    cross_el = nn.CrossEntropyLoss()\n",
    "    optimizer = torch.optim.Adam(net.parameters(), lr=0.001)\n",
    "\n",
    "    # Training Loop\n",
    "    total_iterations = 0\n",
    "    for epoch in range(epochs):\n",
    "        net.train()\n",
    "\n",
    "        loss_sum = 0\n",
    "        num_iterations = 0\n",
    "\n",
    "        # Progress Bar (TQDM)\n",
    "        data_iterator = tqdm(train_loader, desc=f'Epoch {epoch+1}')\n",
    "        if total_iterations_limit is not None:\n",
    "            data_iterator.total = total_iterations_limit\n",
    "\n",
    "        # Iterating Over the Dataset\n",
    "        for data in data_iterator:\n",
    "            num_iterations += 1\n",
    "            total_iterations += 1\n",
    "            x, y = data\n",
    "            x = x.to(device)\n",
    "            y = y.to(device)\n",
    "\n",
    "            # Forward Pass\n",
    "            optimizer.zero_grad()\n",
    "            output = net(x.view(-1, 28*28))\n",
    "            loss = cross_el(output, y)\n",
    "\n",
    "            # Tracking Loss\n",
    "            loss_sum += loss.item()\n",
    "            avg_loss = loss_sum / num_iterations\n",
    "            data_iterator.set_postfix(loss=avg_loss)\n",
    "\n",
    "            # Backward Pass & Optimization\n",
    "            loss.backward()\n",
    "            optimizer.step()\n",
    "\n",
    "            # Early Stopping\n",
    "            if total_iterations_limit is not None and total_iterations >= total_iterations_limit:\n",
    "                return\n",
    "\n",
    "# Final Training Call\n",
    "train(train_loader, net, epochs=1)"
   ]
  },
  {
   "cell_type": "markdown",
   "id": "d744c2e7-b02c-4de9-8b6f-01a939805e24",
   "metadata": {},
   "source": [
    "This function trains the model for a given number of epochs. The optional argument `total_iterations_limit` allows stopping early (used for simulating pre-training).\n",
    "<br>\n",
    "<br>\n",
    "#### Loss Function & Optimizer\n",
    "* `CrossEntropyLoss():`\n",
    "  * This is the loss function for classification tasks.\n",
    "  * It computes the difference between predicted class probabilities and actual labels.\n",
    "\n",
    "* `Adam Optimizer:`\n",
    "  * Adam is a widely used optimization algorithm.\n",
    "  * **Learning rate = 0.001** (controls step size during weight updates).\n",
    "<br>\n",
    "<br>\n",
    "#### Training Loop\n",
    "* `total_iterations` tracks the total number of training batches.\n",
    "* `net.train()` tells PyTorch that we are in training mode (enables dropout & batch normalization if used).\n",
    "<br>\n",
    "<br>\n",
    "#### Progress Bar (TQDM)\n",
    "TQDM provides a progress bar to monitor training. If total_iterations_limit is provided, the training stops early.\n",
    "<br>\n",
    "<br>\n",
    "#### Iterating Over the Dataset\n",
    "for data in data_iterator: Iterates through batches of training images.\n",
    "<br>\n",
    "<br>\n",
    "#### Forward Pass\n",
    "* Clears old gradients (`optimizer.zero_grad()`).\n",
    "* Runs the model forward (`net(x.view(-1, 28*28))`) to get predictions.\n",
    "* Computes the loss (`loss = cross_el(output, y)`).\n",
    "<br>\n",
    "<br>\n",
    "#### Tracking Loss\n",
    "Tracks the running average of the loss. Updates progress bar `set_postfix(loss=avg_loss)`.\n",
    "<br>\n",
    "<br>\n",
    "#### Backward Pass & Optimization\n",
    "* `loss.backward()` calculates gradients using backpropagation.\n",
    "* `optimizer.step()` updates model parameters.\n",
    "<br>\n",
    "<br>\n",
    "#### Early Stopping\n",
    "If `total_iterations_limit` is reached, training stops early.\n",
    "<br>\n",
    "<br>\n",
    "#### Final Training Call\n",
    "The model is trained for just 1 epoch to simulate pre-training.\n",
    "The goal is to later fine-tune this expensive model selectively using LoRA."
   ]
  },
  {
   "cell_type": "markdown",
   "id": "2399afb0-e8fc-4913-b878-97e360adbd3a",
   "metadata": {},
   "source": [
    "## Save the Weights\n",
    "\n",
    "Save a copy of the original model weights before applying LoRA-based fine-tuning. This ensures that we can later verify that the original weights remain unchanged."
   ]
  },
  {
   "cell_type": "code",
   "execution_count": 11,
   "id": "e96a20d7-c3e0-41e8-8542-6c6302a6a3df",
   "metadata": {},
   "outputs": [],
   "source": [
    "original_weights = {}\n",
    "for name, param in net.named_parameters():\n",
    "    original_weights[name] = param.clone().detach()"
   ]
  },
  {
   "cell_type": "markdown",
   "id": "3cbed316-1bb8-4b65-8ba8-72ca039f5589",
   "metadata": {},
   "source": [
    "* `net.named_parameters()` iterates over all model parameters (weights & biases) and stores them by name.\n",
    "* `.clone().detach()` ensures that:\n",
    "  * A copy of the weights is stored (instead of just a reference).\n",
    "  * The weights are detached from the computation graph (so they don’t accidentally update during training).\n",
    "\n",
    "## Test the Model's Performance"
   ]
  },
  {
   "cell_type": "code",
   "execution_count": 12,
   "id": "dd5b47a7-a84b-45a8-bbd8-83c87df9c6d0",
   "metadata": {},
   "outputs": [
    {
     "name": "stderr",
     "output_type": "stream",
     "text": [
      "Testing: 100%|████████████████████████████████████████████████████████████████████| 1000/1000 [00:01<00:00, 563.06it/s]"
     ]
    },
    {
     "name": "stdout",
     "output_type": "stream",
     "text": [
      "Accuracy: 0.957\n",
      "wrong counts for the digit 0: 13\n",
      "wrong counts for the digit 1: 18\n",
      "wrong counts for the digit 2: 39\n",
      "wrong counts for the digit 3: 81\n",
      "wrong counts for the digit 4: 22\n",
      "wrong counts for the digit 5: 22\n",
      "wrong counts for the digit 6: 59\n",
      "wrong counts for the digit 7: 62\n",
      "wrong counts for the digit 8: 17\n",
      "wrong counts for the digit 9: 98\n"
     ]
    },
    {
     "name": "stderr",
     "output_type": "stream",
     "text": [
      "\n"
     ]
    }
   ],
   "source": [
    "def test():\n",
    "    correct = 0\n",
    "    total = 0\n",
    "\n",
    "    wrong_counts = [0 for i in range(10)]\n",
    "\n",
    "    with torch.no_grad():\n",
    "        for data in tqdm(test_loader, desc='Testing'):\n",
    "            x, y = data\n",
    "            x = x.to(device)\n",
    "            y = y.to(device)\n",
    "            output = net(x.view(-1, 784))\n",
    "            for idx, i in enumerate(output):\n",
    "                if torch.argmax(i) == y[idx]:\n",
    "                    correct +=1\n",
    "                else:\n",
    "                    wrong_counts[y[idx]] +=1\n",
    "                total +=1\n",
    "    print(f'Accuracy: {round(correct/total, 3)}')\n",
    "    for i in range(len(wrong_counts)):\n",
    "        print(f'wrong counts for the digit {i}: {wrong_counts[i]}')\n",
    "\n",
    "test()"
   ]
  },
  {
   "cell_type": "markdown",
   "id": "f24fa21d-1948-4359-989e-3361f23153a3",
   "metadata": {},
   "source": [
    "* `correct` and `total:` Track total correct predictions and the total number of test samples.\n",
    "* `wrong_counts:` A list of size 10 (for digits 0-9), storing how many times the model misclassifies each digit.\n",
    "* `torch.no_grad():` Disables gradient computation (makes inference faster and saves memory).\n",
    "* `tqdm(test_loader, desc='Testing'):` Loops through the test dataset with a progress bar.\n",
    "* `x.view(-1, 784):`\n",
    "  * Reshapes the image tensor to a **1D vector of size 784 (28x28 pixels)** since most neural networks require a flat input.\n",
    "  * `-1` lets PyTorch automatically determine the batch size.\n",
    "\n",
    "* `torch.argmax(i):` Returns the predicted digit (i.e., the index of the highest probability in output).\n",
    "\n",
    "* `Comparison with y[idx]:`\n",
    "  * If prediction matches the actual label → Increase correct counter.\n",
    "  * If incorrect → Increase wrong_counts[y[idx]] (to track how often a digit is misclassified).\n",
    "  * `Update total:` Keeps track of total predictions made.\n",
    "<br>\n",
    "<br>\n",
    "\n",
    "\n",
    "As we can see, the network performs poorly on the digit 9. Let's fine-tune it on the digit 9\n",
    "\n",
    "\n",
    "Let's visualize how many parameters are in the original network, before introducing the LoRA matrices."
   ]
  },
  {
   "cell_type": "code",
   "execution_count": 13,
   "id": "527ca4d7-27c0-46b1-a1d5-040cefe0b367",
   "metadata": {},
   "outputs": [
    {
     "name": "stdout",
     "output_type": "stream",
     "text": [
      "Layer 1: W: torch.Size([1000, 784]) + B: torch.Size([1000])\n",
      "Layer 2: W: torch.Size([2000, 1000]) + B: torch.Size([2000])\n",
      "Layer 3: W: torch.Size([10, 2000]) + B: torch.Size([10])\n",
      "Total number of parameters: 2,807,010\n"
     ]
    }
   ],
   "source": [
    "# Print the size of the weights matrices of the network\n",
    "# Save the count of the total number of parameters\n",
    "total_parameters_original = 0\n",
    "for index, layer in enumerate([net.linear1, net.linear2, net.linear3]):\n",
    "    total_parameters_original += layer.weight.nelement() + layer.bias.nelement()\n",
    "    print(f'Layer {index+1}: W: {layer.weight.shape} + B: {layer.bias.shape}')\n",
    "print(f'Total number of parameters: {total_parameters_original:,}')"
   ]
  },
  {
   "cell_type": "markdown",
   "id": "6ee1e11f-8a55-4ad7-9c6a-47457c9c361e",
   "metadata": {},
   "source": [
    "* `total_parameters_original = 0:` Initializes a counter for the total number of parameters in the model.\n",
    "* Loop through each layer (linear1, linear2, linear3):\n",
    "  * `layer.weight.nelement():` Counts the total elements in the weight matrix W.\n",
    "  * `layer.bias.nelement():` Counts the total elements in the bias vector B.\n",
    "  * The sum of both is added to `total_parameters_original`.\n",
    "<br>\n",
    "<br>\n",
    "\n",
    "Define the LoRA parameterization as described in the paper. The full detail on how PyTorch parameterizations work is here: https://pytorch.org/tutorials/intermediate/parametrizations.html"
   ]
  },
  {
   "cell_type": "code",
   "execution_count": 14,
   "id": "f4de307b-7968-49e4-bb0e-2aead3d3d77a",
   "metadata": {},
   "outputs": [],
   "source": [
    "class LoRAParametrization(nn.Module):\n",
    "    def __init__(self, features_in, features_out, rank=1, alpha=1, device='cpu'):\n",
    "        super().__init__()\n",
    "        # Section 4.1 of the paper: \n",
    "        #   We use a random Gaussian initialization for A and zero for B, so ∆W = BA is zero at the beginning of training\n",
    "        self.lora_A = nn.Parameter(torch.zeros((rank,features_out)).to(device))\n",
    "        self.lora_B = nn.Parameter(torch.zeros((features_in, rank)).to(device))\n",
    "        nn.init.normal_(self.lora_A, mean=0, std=1)\n",
    "        \n",
    "        # Section 4.1 of the paper: \n",
    "        #   We then scale ∆Wx by α/r , where α is a constant in r. \n",
    "        #   When optimizing with Adam, tuning α is roughly the same as tuning the learning rate if we scale the initialization appropriately. \n",
    "        #   As a result, we simply set α to the first r we try and do not tune it. \n",
    "        #   This scaling helps to reduce the need to retune hyperparameters when we vary r.\n",
    "        self.scale = alpha / rank\n",
    "        self.enabled = True\n",
    "\n",
    "    def forward(self, original_weights):\n",
    "        if self.enabled:\n",
    "            # Return W + (B*A)*scale\n",
    "            return original_weights + torch.matmul(self.lora_B, self.lora_A).view(original_weights.shape) * self.scale\n",
    "        else:\n",
    "            return original_weights"
   ]
  },
  {
   "cell_type": "markdown",
   "id": "cb7c3645-dd74-4a58-97c5-58820fbf00db",
   "metadata": {},
   "source": [
    "* `features_in:` Number of input features (rows of W).\n",
    "* `features_out:` Number of output features (columns of W).\n",
    "* `rank (r):` Defines the size of the low-rank decomposition (r << min(d, k)).\n",
    "* `alpha (α):` Scaling factor to control how much LoRA modifies the original weights.\n",
    "* `device:` Moves parameters to CPU/GPU.\n",
    "<br>\n",
    "<br>\n",
    "* `lora_A (r × k):` Rank-r adaptation matrix.\n",
    "* `lora_B (d × r):` Projects input features into r dimensions.\n",
    "* Initializes lora_A with a Gaussian distribution (mean=0, std=1).\n",
    "* lora_B is initialized with zeros (ensuring no initial impact on W).\n",
    "<br>\n",
    "<br>\n",
    "* Scales the LoRA update by α/r to balance learning rate adjustments. Setting α = r simplifies hyperparameter tuning.\n",
    "<br>\n",
    "<br>\n",
    "* torch.matmul(self.lora_B, self.lora_A)\n",
    "  * Multiplies the two low-rank matrices to form a full-sized weight update.\n",
    "  * Shape: `(d × r) × (r × k) → (d × k)`\n",
    "* `.view(original_weights.shape)`\n",
    "  * Reshapes the update to match the original weight matrix.\n",
    "* Multiplies by self.scale to adjust learning rate.\n",
    "<br>\n",
    "<br>\n",
    "\n",
    "* Returns the modified weight matrix `W_new = W + (B * A) * scale`.\n",
    "\n",
    "\n",
    "### Add the parameterization to our network."
   ]
  },
  {
   "cell_type": "code",
   "execution_count": 15,
   "id": "f796e574-38b7-44a4-bf1b-e53cc646f486",
   "metadata": {},
   "outputs": [],
   "source": [
    "import torch.nn.utils.parametrize as parametrize\n",
    "\n",
    "def linear_layer_parameterization(layer, device, rank=1, lora_alpha=1):\n",
    "    # Only add the parameterization to the weight matrix, ignore the Bias\n",
    "\n",
    "    # From section 4.2 of the paper:\n",
    "    #   We limit our study to only adapting the attention weights for downstream tasks and freeze the MLP modules (so they are not trained in downstream tasks) both for simplicity and parameter-efficiency.\n",
    "    #   [...]\n",
    "    #   We leave the empirical investigation of [...], and biases to a future work.\n",
    "    \n",
    "    features_in, features_out = layer.weight.shape\n",
    "    return LoRAParametrization(\n",
    "        features_in, features_out, rank=rank, alpha=lora_alpha, device=device\n",
    "    )\n",
    "\n",
    "parametrize.register_parametrization(\n",
    "    net.linear1, \"weight\", linear_layer_parameterization(net.linear1, device)\n",
    ")\n",
    "parametrize.register_parametrization(\n",
    "    net.linear2, \"weight\", linear_layer_parameterization(net.linear2, device)\n",
    ")\n",
    "parametrize.register_parametrization(\n",
    "    net.linear3, \"weight\", linear_layer_parameterization(net.linear3, device)\n",
    ")\n",
    "\n",
    "\n",
    "def enable_disable_lora(enabled=True):\n",
    "    for layer in [net.linear1, net.linear2, net.linear3]:\n",
    "        layer.parametrizations[\"weight\"][0].enabled = enabled"
   ]
  },
  {
   "cell_type": "markdown",
   "id": "00a627d7-d748-448e-b47d-a36a6fbd71bd",
   "metadata": {},
   "source": [
    "This toggles LoRA on or off by setting the enabled flag.\n",
    "If `enabled=False`, the original weights are used without LoRA updates.\n",
    "\n",
    "### Display the number of parameters added by LoRA."
   ]
  },
  {
   "cell_type": "code",
   "execution_count": 16,
   "id": "0ec96cb0-1d81-43c4-82fb-7f03bc999616",
   "metadata": {},
   "outputs": [
    {
     "name": "stdout",
     "output_type": "stream",
     "text": [
      "Layer 1: W: torch.Size([1000, 784]) + B: torch.Size([1000]) + Lora_A: torch.Size([1, 784]) + Lora_B: torch.Size([1000, 1])\n",
      "Layer 2: W: torch.Size([2000, 1000]) + B: torch.Size([2000]) + Lora_A: torch.Size([1, 1000]) + Lora_B: torch.Size([2000, 1])\n",
      "Layer 3: W: torch.Size([10, 2000]) + B: torch.Size([10]) + Lora_A: torch.Size([1, 2000]) + Lora_B: torch.Size([10, 1])\n",
      "Total number of parameters (original): 2,807,010\n",
      "Total number of parameters (original + LoRA): 2,813,804\n",
      "Parameters introduced by LoRA: 6,794\n",
      "Parameters incremment: 0.242%\n"
     ]
    }
   ],
   "source": [
    "total_parameters_lora = 0\n",
    "total_parameters_non_lora = 0\n",
    "for index, layer in enumerate([net.linear1, net.linear2, net.linear3]):\n",
    "    total_parameters_lora += layer.parametrizations[\"weight\"][0].lora_A.nelement() + layer.parametrizations[\"weight\"][0].lora_B.nelement()\n",
    "    total_parameters_non_lora += layer.weight.nelement() + layer.bias.nelement()\n",
    "    print(\n",
    "        f'Layer {index+1}: W: {layer.weight.shape} + B: {layer.bias.shape} + Lora_A: {layer.parametrizations[\"weight\"][0].lora_A.shape} + Lora_B: {layer.parametrizations[\"weight\"][0].lora_B.shape}'\n",
    "    )\n",
    "# The non-LoRA parameters count must match the original network\n",
    "assert total_parameters_non_lora == total_parameters_original\n",
    "print(f'Total number of parameters (original): {total_parameters_non_lora:,}')\n",
    "print(f'Total number of parameters (original + LoRA): {total_parameters_lora + total_parameters_non_lora:,}')\n",
    "print(f'Parameters introduced by LoRA: {total_parameters_lora:,}')\n",
    "parameters_incremment = (total_parameters_lora / total_parameters_non_lora) * 100\n",
    "print(f'Parameters incremment: {parameters_incremment:.3f}%')"
   ]
  },
  {
   "cell_type": "markdown",
   "id": "40274b4d-df80-43c8-977a-05546b1ca108",
   "metadata": {},
   "source": [
    "Freeze all the parameters of the original network and only fine tuning the ones introduced by LoRA. Then fine-tune the model on the digit 9 and only for 100 batches."
   ]
  },
  {
   "cell_type": "code",
   "execution_count": 17,
   "id": "6c4ca8ac-0138-4eb6-817a-0a1f3f96b5e9",
   "metadata": {},
   "outputs": [
    {
     "name": "stdout",
     "output_type": "stream",
     "text": [
      "Freezing non-LoRA parameter linear1.bias\n",
      "Freezing non-LoRA parameter linear1.parametrizations.weight.original\n",
      "Freezing non-LoRA parameter linear2.bias\n",
      "Freezing non-LoRA parameter linear2.parametrizations.weight.original\n",
      "Freezing non-LoRA parameter linear3.bias\n",
      "Freezing non-LoRA parameter linear3.parametrizations.weight.original\n"
     ]
    },
    {
     "name": "stderr",
     "output_type": "stream",
     "text": [
      "Epoch 1:  99%|██████████████████████████████████████████████████████████▍| 99/100 [00:00<00:00, 251.54it/s, loss=0.125]\n"
     ]
    }
   ],
   "source": [
    "# Freeze the non-Lora parameters\n",
    "for name, param in net.named_parameters():\n",
    "    if 'lora' not in name:\n",
    "        print(f'Freezing non-LoRA parameter {name}')\n",
    "        param.requires_grad = False\n",
    "\n",
    "# Load the MNIST dataset again, by keeping only the digit 9\n",
    "mnist_trainset = datasets.MNIST(root='./data', train=True, download=True, transform=transform)\n",
    "exclude_indices = mnist_trainset.targets == 9\n",
    "mnist_trainset.data = mnist_trainset.data[exclude_indices]\n",
    "mnist_trainset.targets = mnist_trainset.targets[exclude_indices]\n",
    "# Create a dataloader for the training\n",
    "train_loader = torch.utils.data.DataLoader(mnist_trainset, batch_size=10, shuffle=True)\n",
    "\n",
    "# Train the network with LoRA only on the digit 9 and only for 100 batches (hoping that it would improve the performance on the digit 9)\n",
    "train(train_loader, net, epochs=1, total_iterations_limit=100)"
   ]
  },
  {
   "cell_type": "markdown",
   "id": "00315ca6-2ac0-4d01-aa6a-1667173e1e6e",
   "metadata": {},
   "source": [
    "* This freezes all parameters except LoRA-specific ones (lora_A, lora_B). This ensures that only the LoRA components are trained while keeping the base model unchanged.\n",
    "* Loads the MNIST dataset but keeps only the images of digit 9.\n",
    "* This dataset will be used to fine-tune LoRA to improve the model’s recognition of the digit 9.\n",
    "* Trains the model only for 100 batches, optimizing only the LoRA parameters.\n",
    "\n",
    "\n",
    "Verify that the fine-tuning didn't alter the original weights, but only the ones introduced by LoRA."
   ]
  },
  {
   "cell_type": "code",
   "execution_count": 18,
   "id": "f0d612cd-3dcb-429a-8c5d-0fe89444e812",
   "metadata": {},
   "outputs": [],
   "source": [
    "# Check that the frozen parameters are still unchanged by the finetuning\n",
    "assert torch.all(net.linear1.parametrizations.weight.original == original_weights['linear1.weight'])\n",
    "assert torch.all(net.linear2.parametrizations.weight.original == original_weights['linear2.weight'])\n",
    "assert torch.all(net.linear3.parametrizations.weight.original == original_weights['linear3.weight'])\n",
    "\n",
    "enable_disable_lora(enabled=True)\n",
    "# The new linear1.weight is obtained by the \"forward\" function of our LoRA parametrization\n",
    "# The original weights have been moved to net.linear1.parametrizations.weight.original\n",
    "# More info here: https://pytorch.org/tutorials/intermediate/parametrizations.html#inspecting-a-parametrized-module\n",
    "assert torch.equal(net.linear1.weight, net.linear1.parametrizations.weight.original + (net.linear1.parametrizations.weight[0].lora_B @ net.linear1.parametrizations.weight[0].lora_A) * net.linear1.parametrizations.weight[0].scale)\n",
    "\n",
    "enable_disable_lora(enabled=False)\n",
    "# If we disable LoRA, the linear1.weight is the original one\n",
    "assert torch.equal(net.linear1.weight, original_weights['linear1.weight'])"
   ]
  },
  {
   "cell_type": "markdown",
   "id": "0dc9e0fd-db4b-4901-9a54-fa1a31e3cef4",
   "metadata": {},
   "source": [
    "* Checks that the original non-LoRA parameters have not changed after fine-tuning.\n",
    "* Ensures that LoRA is applied correctly.\n",
    "* The new weight matrix is computed as: **`W = W_og + (B x A) x scale`**\n",
    "* Disables LoRA and checks that the weight matrix returns to its original state.\n",
    "* This confirms that LoRA operates as an additive adjustment rather than modifying the base weights permanently.\n",
    "\n",
    "\n",
    "### Test the network with LoRA enabled\n",
    "The digit 9 should be classified better."
   ]
  },
  {
   "cell_type": "code",
   "execution_count": 19,
   "id": "da17da56-be21-4fb7-961f-778ade63db75",
   "metadata": {},
   "outputs": [
    {
     "name": "stderr",
     "output_type": "stream",
     "text": [
      "Testing: 100%|████████████████████████████████████████████████████████████████████| 1000/1000 [00:02<00:00, 454.58it/s]"
     ]
    },
    {
     "name": "stdout",
     "output_type": "stream",
     "text": [
      "Accuracy: 0.891\n",
      "wrong counts for the digit 0: 30\n",
      "wrong counts for the digit 1: 16\n",
      "wrong counts for the digit 2: 60\n",
      "wrong counts for the digit 3: 150\n",
      "wrong counts for the digit 4: 434\n",
      "wrong counts for the digit 5: 58\n",
      "wrong counts for the digit 6: 73\n",
      "wrong counts for the digit 7: 205\n",
      "wrong counts for the digit 8: 53\n",
      "wrong counts for the digit 9: 13\n"
     ]
    },
    {
     "name": "stderr",
     "output_type": "stream",
     "text": [
      "\n"
     ]
    }
   ],
   "source": [
    "# Test with LoRA enabled\n",
    "enable_disable_lora(enabled=True)\n",
    "test()"
   ]
  },
  {
   "cell_type": "markdown",
   "id": "2109f236-1b3e-4c8f-8101-666d0c55e67a",
   "metadata": {},
   "source": [
    "### Test the network with LoRA disabled\n",
    "The accuracy and errors counts must be the same as the original network."
   ]
  },
  {
   "cell_type": "code",
   "execution_count": 20,
   "id": "d8bc4bcf-9ce1-4a9d-a329-cb883f4bcb03",
   "metadata": {},
   "outputs": [
    {
     "name": "stderr",
     "output_type": "stream",
     "text": [
      "Testing: 100%|████████████████████████████████████████████████████████████████████| 1000/1000 [00:01<00:00, 503.61it/s]"
     ]
    },
    {
     "name": "stdout",
     "output_type": "stream",
     "text": [
      "Accuracy: 0.957\n",
      "wrong counts for the digit 0: 13\n",
      "wrong counts for the digit 1: 18\n",
      "wrong counts for the digit 2: 39\n",
      "wrong counts for the digit 3: 81\n",
      "wrong counts for the digit 4: 22\n",
      "wrong counts for the digit 5: 22\n",
      "wrong counts for the digit 6: 59\n",
      "wrong counts for the digit 7: 62\n",
      "wrong counts for the digit 8: 17\n",
      "wrong counts for the digit 9: 98\n"
     ]
    },
    {
     "name": "stderr",
     "output_type": "stream",
     "text": [
      "\n"
     ]
    }
   ],
   "source": [
    "# Test with LoRA disabled\n",
    "enable_disable_lora(enabled=False)\n",
    "test()"
   ]
  },
  {
   "cell_type": "code",
   "execution_count": null,
   "id": "3aac7684-a080-4c8b-bf81-aef37dc86cb3",
   "metadata": {},
   "outputs": [],
   "source": []
  }
 ],
 "metadata": {
  "kernelspec": {
   "display_name": "Python 3 (ipykernel)",
   "language": "python",
   "name": "python3"
  },
  "language_info": {
   "codemirror_mode": {
    "name": "ipython",
    "version": 3
   },
   "file_extension": ".py",
   "mimetype": "text/x-python",
   "name": "python",
   "nbconvert_exporter": "python",
   "pygments_lexer": "ipython3",
   "version": "3.10.11"
  }
 },
 "nbformat": 4,
 "nbformat_minor": 5
}
